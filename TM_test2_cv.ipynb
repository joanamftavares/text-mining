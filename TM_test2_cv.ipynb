{
 "cells": [
  {
   "cell_type": "markdown",
   "metadata": {},
   "source": [
    "# Initial Setup"
   ]
  },
  {
   "cell_type": "markdown",
   "metadata": {
    "id": "WZmrCsQ8ZwMr",
    "tags": []
   },
   "source": [
    "## Importing Libraries\n",
    "\n"
   ]
  },
  {
   "cell_type": "code",
   "execution_count": 1,
   "metadata": {
    "id": "yvCHuSjlZ0_b"
   },
   "outputs": [],
   "source": [
    "import numpy as np\n",
    "import pandas as pd\n",
    "import matplotlib.pyplot as plt\n",
    "import seaborn as sns\n",
    "\n",
    "import nltk\n",
    "from nltk.stem import PorterStemmer\n",
    "from nltk.stem import WordNetLemmatizer\n",
    "\n",
    "from sklearn.feature_extraction import text\n",
    "from sklearn.feature_extraction.text import CountVectorizer, TfidfVectorizer, TfidfTransformer\n",
    "from sklearn.metrics.pairwise import cosine_similarity\n",
    "from sklearn.pipeline import Pipeline\n",
    "from sklearn.model_selection import GridSearchCV\n",
    "from sklearn.metrics import classification_report, confusion_matrix, accuracy_score, f1_score, recall_score, precision_score\n",
    "from sklearn.metrics import ConfusionMatrixDisplay\n",
    "\n",
    "from sklearn.neighbors import KNeighborsClassifier\n",
    "from sklearn.naive_bayes import MultinomialNB\n",
    "from sklearn.ensemble import GradientBoostingClassifier\n",
    "from sklearn.svm import SVC\n",
    "from sklearn.linear_model import SGDClassifier, LogisticRegression\n",
    "from sklearn.tree import DecisionTreeClassifier\n",
    "from sklearn.ensemble import VotingClassifier, StackingClassifier, RandomForestClassifier\n",
    "\n",
    "\n",
    "import re"
   ]
  },
  {
   "cell_type": "code",
   "execution_count": 2,
   "metadata": {},
   "outputs": [
    {
     "name": "stdout",
     "output_type": "stream",
     "text": [
      "python version:   3.10.4\n",
      "nltk version:     3.7\n",
      "pandas version:   1.4.2\n",
      "numpy version:    1.22.4\n",
      "sklearn version:  1.1.1\n",
      "matplotlib version:   3.5.2\n"
     ]
    }
   ],
   "source": [
    "from sklearn import __version__ as sklearn_version\n",
    "from platform import python_version \n",
    "from matplotlib import __version__ as mp_version\n",
    "\n",
    "print(\"python version:  \", python_version())\n",
    "print(\"nltk version:    \", nltk.__version__)\n",
    "print(\"pandas version:  \", pd.__version__)\n",
    "print(\"numpy version:   \", np.__version__)\n",
    "print(\"sklearn version: \", sklearn_version)\n",
    "print(\"matplotlib version:  \", mp_version)\n"
   ]
  },
  {
   "cell_type": "markdown",
   "metadata": {},
   "source": [
    "Package versions used:\n",
    "\n",
    "```\n",
    "python version:   3.9.7\n",
    "nltk version:     3.6.7\n",
    "pandas version:   1.3.3\n",
    "numpy version:    1.20.3\n",
    "sklearn version:  1.0.2\n",
    "matplotlib version:   3.4.3\n",
    "```"
   ]
  },
  {
   "cell_type": "markdown",
   "metadata": {},
   "source": [
    "## Setting Variables"
   ]
  },
  {
   "cell_type": "code",
   "execution_count": 3,
   "metadata": {},
   "outputs": [],
   "source": [
    "plt.style.use('seaborn-paper')\n",
    "plt.rcParams['figure.dpi'] = 128"
   ]
  },
  {
   "cell_type": "code",
   "execution_count": 4,
   "metadata": {},
   "outputs": [],
   "source": [
    "RANDOM_STATE = 1\n",
    "np.random.seed(RANDOM_STATE)"
   ]
  },
  {
   "cell_type": "markdown",
   "metadata": {
    "id": "vd-rpPT0Xpzv",
    "tags": []
   },
   "source": [
    "## Loading Data"
   ]
  },
  {
   "cell_type": "code",
   "execution_count": 5,
   "metadata": {
    "colab": {
     "base_uri": "https://localhost:8080/",
     "height": 424
    },
    "id": "mruxJnXsXq81",
    "outputId": "d924d293-698c-40d0-9e84-1ba823f1ca68"
   },
   "outputs": [
    {
     "data": {
      "text/html": [
       "<div>\n",
       "<style scoped>\n",
       "    .dataframe tbody tr th:only-of-type {\n",
       "        vertical-align: middle;\n",
       "    }\n",
       "\n",
       "    .dataframe tbody tr th {\n",
       "        vertical-align: top;\n",
       "    }\n",
       "\n",
       "    .dataframe thead th {\n",
       "        text-align: right;\n",
       "    }\n",
       "</style>\n",
       "<table border=\"1\" class=\"dataframe\">\n",
       "  <thead>\n",
       "    <tr style=\"text-align: right;\">\n",
       "      <th></th>\n",
       "      <th>sentence</th>\n",
       "      <th>emotion</th>\n",
       "    </tr>\n",
       "  </thead>\n",
       "  <tbody>\n",
       "    <tr>\n",
       "      <th>0</th>\n",
       "      <td>What happens to the gold in our safe ?</td>\n",
       "      <td>4</td>\n",
       "    </tr>\n",
       "    <tr>\n",
       "      <th>1</th>\n",
       "      <td>Natural to get cold feet .</td>\n",
       "      <td>8</td>\n",
       "    </tr>\n",
       "    <tr>\n",
       "      <th>2</th>\n",
       "      <td>Not very lucky , is he ?</td>\n",
       "      <td>7</td>\n",
       "    </tr>\n",
       "    <tr>\n",
       "      <th>3</th>\n",
       "      <td>I'm just a little anxious to get up there and ...</td>\n",
       "      <td>2</td>\n",
       "    </tr>\n",
       "    <tr>\n",
       "      <th>4</th>\n",
       "      <td>Did you think we don't know about your affair ...</td>\n",
       "      <td>1</td>\n",
       "    </tr>\n",
       "    <tr>\n",
       "      <th>...</th>\n",
       "      <td>...</td>\n",
       "      <td>...</td>\n",
       "    </tr>\n",
       "    <tr>\n",
       "      <th>995</th>\n",
       "      <td>All I ask of you is be careful .</td>\n",
       "      <td>4</td>\n",
       "    </tr>\n",
       "    <tr>\n",
       "      <th>996</th>\n",
       "      <td>You don't like jazz , pal ?</td>\n",
       "      <td>7</td>\n",
       "    </tr>\n",
       "    <tr>\n",
       "      <th>997</th>\n",
       "      <td>Put it on .</td>\n",
       "      <td>1</td>\n",
       "    </tr>\n",
       "    <tr>\n",
       "      <th>998</th>\n",
       "      <td>Can you ever imagine [PERSON] being in a spot ...</td>\n",
       "      <td>7</td>\n",
       "    </tr>\n",
       "    <tr>\n",
       "      <th>999</th>\n",
       "      <td>You think top gun up there will be able to tel...</td>\n",
       "      <td>1</td>\n",
       "    </tr>\n",
       "  </tbody>\n",
       "</table>\n",
       "<p>1000 rows × 2 columns</p>\n",
       "</div>"
      ],
      "text/plain": [
       "                                              sentence  emotion\n",
       "0               What happens to the gold in our safe ?        4\n",
       "1                           Natural to get cold feet .        8\n",
       "2                             Not very lucky , is he ?        7\n",
       "3    I'm just a little anxious to get up there and ...        2\n",
       "4    Did you think we don't know about your affair ...        1\n",
       "..                                                 ...      ...\n",
       "995                   All I ask of you is be careful .        4\n",
       "996                        You don't like jazz , pal ?        7\n",
       "997                                        Put it on .        1\n",
       "998  Can you ever imagine [PERSON] being in a spot ...        7\n",
       "999  You think top gun up there will be able to tel...        1\n",
       "\n",
       "[1000 rows x 2 columns]"
      ]
     },
     "execution_count": 5,
     "metadata": {},
     "output_type": "execute_result"
    }
   ],
   "source": [
    "url1 = 'https://raw.githubusercontent.com/joanamftavares/text-mining/main/data/dev_set.txt'\n",
    "dev_set = pd.read_csv(url1, delimiter='\\t')\n",
    "dev_set"
   ]
  },
  {
   "cell_type": "code",
   "execution_count": 6,
   "metadata": {
    "colab": {
     "base_uri": "https://localhost:8080/",
     "height": 424
    },
    "id": "t2UuVJwKcS_I",
    "outputId": "87fe4e79-89d6-4c80-8c4b-d28c4fcab652"
   },
   "outputs": [
    {
     "data": {
      "text/html": [
       "<div>\n",
       "<style scoped>\n",
       "    .dataframe tbody tr th:only-of-type {\n",
       "        vertical-align: middle;\n",
       "    }\n",
       "\n",
       "    .dataframe tbody tr th {\n",
       "        vertical-align: top;\n",
       "    }\n",
       "\n",
       "    .dataframe thead th {\n",
       "        text-align: right;\n",
       "    }\n",
       "</style>\n",
       "<table border=\"1\" class=\"dataframe\">\n",
       "  <thead>\n",
       "    <tr style=\"text-align: right;\">\n",
       "      <th></th>\n",
       "      <th>sentence</th>\n",
       "      <th>emotion</th>\n",
       "    </tr>\n",
       "  </thead>\n",
       "  <tbody>\n",
       "    <tr>\n",
       "      <th>0</th>\n",
       "      <td>I'm too old to be traded in .</td>\n",
       "      <td>6</td>\n",
       "    </tr>\n",
       "    <tr>\n",
       "      <th>1</th>\n",
       "      <td>Mother said you could always tell a lady by he...</td>\n",
       "      <td>8</td>\n",
       "    </tr>\n",
       "    <tr>\n",
       "      <th>2</th>\n",
       "      <td>I always said I'd leave off when the time came .</td>\n",
       "      <td>6</td>\n",
       "    </tr>\n",
       "    <tr>\n",
       "      <th>3</th>\n",
       "      <td>He'll be safe with me .</td>\n",
       "      <td>2</td>\n",
       "    </tr>\n",
       "    <tr>\n",
       "      <th>4</th>\n",
       "      <td>Lay off .</td>\n",
       "      <td>1</td>\n",
       "    </tr>\n",
       "    <tr>\n",
       "      <th>...</th>\n",
       "      <td>...</td>\n",
       "      <td>...</td>\n",
       "    </tr>\n",
       "    <tr>\n",
       "      <th>13995</th>\n",
       "      <td>Yes , Commissioner .</td>\n",
       "      <td>8</td>\n",
       "    </tr>\n",
       "    <tr>\n",
       "      <th>13996</th>\n",
       "      <td>The ring !</td>\n",
       "      <td>7</td>\n",
       "    </tr>\n",
       "    <tr>\n",
       "      <th>13997</th>\n",
       "      <td>That is my greatest and most enduring love .</td>\n",
       "      <td>5</td>\n",
       "    </tr>\n",
       "    <tr>\n",
       "      <th>13998</th>\n",
       "      <td>When I came back from the war , I had a son .</td>\n",
       "      <td>5</td>\n",
       "    </tr>\n",
       "    <tr>\n",
       "      <th>13999</th>\n",
       "      <td>You don't have to say the words , Governor .</td>\n",
       "      <td>6</td>\n",
       "    </tr>\n",
       "  </tbody>\n",
       "</table>\n",
       "<p>14000 rows × 2 columns</p>\n",
       "</div>"
      ],
      "text/plain": [
       "                                                sentence  emotion\n",
       "0                          I'm too old to be traded in .        6\n",
       "1      Mother said you could always tell a lady by he...        8\n",
       "2       I always said I'd leave off when the time came .        6\n",
       "3                                He'll be safe with me .        2\n",
       "4                                              Lay off .        1\n",
       "...                                                  ...      ...\n",
       "13995                               Yes , Commissioner .        8\n",
       "13996                                         The ring !        7\n",
       "13997       That is my greatest and most enduring love .        5\n",
       "13998      When I came back from the war , I had a son .        5\n",
       "13999       You don't have to say the words , Governor .        6\n",
       "\n",
       "[14000 rows x 2 columns]"
      ]
     },
     "execution_count": 6,
     "metadata": {},
     "output_type": "execute_result"
    }
   ],
   "source": [
    "url2 = 'https://raw.githubusercontent.com/joanamftavares/text-mining/main/data/training_set.txt'\n",
    "train_set = pd.read_csv(url2, delimiter='\\t')\n",
    "train_set"
   ]
  },
  {
   "cell_type": "markdown",
   "metadata": {
    "id": "x3sczNiUUN54"
   },
   "source": [
    "# Baseline Preprocessing"
   ]
  },
  {
   "cell_type": "code",
   "execution_count": 7,
   "metadata": {
    "id": "RZBggjjUSl2S"
   },
   "outputs": [],
   "source": [
    "## Uncomment these on first run\n",
    "#nltk.download('omw-1.4')\n",
    "#nltk.download('averaged_perceptron_tagger')\n"
   ]
  },
  {
   "cell_type": "code",
   "execution_count": 8,
   "metadata": {
    "id": "DUTmmWPRSso8"
   },
   "outputs": [],
   "source": [
    "stop = text.ENGLISH_STOP_WORDS\n",
    "stemmer = PorterStemmer()\n",
    "lemmatizer = WordNetLemmatizer()"
   ]
  },
  {
   "cell_type": "code",
   "execution_count": 9,
   "metadata": {
    "id": "4s69EUrpSwH5"
   },
   "outputs": [],
   "source": [
    "def stem_sentences(sentence):\n",
    "    tokens = sentence.split()\n",
    "    stemmed_tokens = [stemmer.stem(token) for token in tokens]\n",
    "    return ' '.join(stemmed_tokens)\n",
    "\n",
    "def lemmatize_sentences(sentence):\n",
    "    tokens = sentence.split()\n",
    "    lemmd_tokens = [lemmatizer.lemmatize(token) for token in tokens]\n",
    "    return ' '.join(lemmd_tokens)\n",
    "\n",
    "def basic_preprocessing(df_, col, stop=[]):\n",
    "    \n",
    "    df = df_.copy()\n",
    "    df['original'] = df[col]\n",
    "    \"\"\"\n",
    "    Baseline preprocessing: \n",
    "        - lowercase\n",
    "        - remove symbols (keep letters, ?, !)\n",
    "        - remove stop words\n",
    "        - use stemming\n",
    "    \"\"\"\n",
    "    keep = ['?', '!']\n",
    "    \n",
    "    ## Lowercase\n",
    "    df[col] = df[col].str.lower()\n",
    "    \n",
    "    ## Remove symbols\n",
    "    df[col] = df[col].apply(lambda x: ''.join([re.sub(r'[\\.;:,\\\"\\'\\/]','',x)]))\n",
    "    \n",
    "    ## Remove the extra space left before symbols\n",
    "    ## e.g. \"who are you ?\" >> \"who are you?\"\n",
    "    ## Not sure if this should be done, comment out if not\n",
    "    ## df[col] = df[col].apply(lambda x: str.replace(x,' ?','?'))\n",
    "    ## df[col] = df[col].apply(lambda x: str.replace(x,' !','!'))\n",
    "\n",
    "    \n",
    "    ## Remove stop words ?\n",
    "    ## https://towardsdatascience.com/text-pre-processing-stop-words-removal-using-different-libraries-f20bac19929a\n",
    "    if len(stop) > 0:\n",
    "        df[col] = df[col].apply(lambda x: ' '.join([word for word in x.split(' ') if word not in (stop)]))\n",
    "    \n",
    "    ## Use Stemming\n",
    "    df[col] = df[col].apply(lambda x: stem_sentences(x) )\n",
    "    \n",
    "    ## Remove excess space\n",
    "    df[col] = df[col].str.strip()\n",
    "    \n",
    "    return df\n",
    "\n",
    "\n",
    "def text_preprocessing(df_, col, stop=[]):\n",
    "    \n",
    "    df = df_.copy()\n",
    "    df['original'] = df[col]\n",
    "    \"\"\"\n",
    "    Baseline preprocessing: \n",
    "        - lowercase\n",
    "        - remove symbols (keep letters, ?, !)\n",
    "        - remove stop words in pipeline instead of in preprocessing\n",
    "        - use lemmatizing instead \n",
    "    \"\"\"\n",
    "    keep = ['?', '!']\n",
    "    \n",
    "    ## Lowercase\n",
    "    df[col] = df[col].str.lower()\n",
    "    \n",
    "    ## Remove symbols\n",
    "    df[col] = df[col].apply(lambda x: ''.join([re.sub(r'[\\.;:,\\\"\\'\\/]','',x)]))\n",
    "        \n",
    "    ## Use Lemmatizer\n",
    "    df[col] = df[col].apply(lambda x: lemmatize_sentences(x) )\n",
    "    \n",
    "    ## Remove excess spaces\n",
    "    df[col] = df[col].apply(lambda x: re.sub(' +', ' ', x))\n",
    "    df[col] = df[col].str.strip()\n",
    "    \n",
    "    return df"
   ]
  },
  {
   "cell_type": "code",
   "execution_count": 10,
   "metadata": {
    "colab": {
     "base_uri": "https://localhost:8080/",
     "height": 143
    },
    "id": "Sez3D0PsUwYC",
    "outputId": "b6e926d8-065e-4e61-d3b8-c3c9489f1d31"
   },
   "outputs": [],
   "source": [
    "train_set_prep_basic = basic_preprocessing(train_set, 'sentence', stop)\n",
    "train_set_prep = text_preprocessing(train_set, 'sentence', stop)\n"
   ]
  },
  {
   "cell_type": "code",
   "execution_count": 11,
   "metadata": {},
   "outputs": [],
   "source": [
    "#stop"
   ]
  },
  {
   "cell_type": "code",
   "execution_count": 12,
   "metadata": {
    "colab": {
     "base_uri": "https://localhost:8080/",
     "height": 143
    },
    "id": "DNq2X56pUxOB",
    "outputId": "726d1374-8aa6-4c12-c4fa-7bfab87478e3"
   },
   "outputs": [],
   "source": [
    "dev_set_prep_basic = basic_preprocessing(dev_set, 'sentence', stop)\n",
    "dev_set_prep = text_preprocessing(dev_set, 'sentence', stop)\n"
   ]
  },
  {
   "cell_type": "markdown",
   "metadata": {},
   "source": [
    "# Data Understanding"
   ]
  },
  {
   "cell_type": "code",
   "execution_count": 13,
   "metadata": {},
   "outputs": [],
   "source": [
    "labels = {\n",
    "    1: 'Anger',\n",
    "    2: 'Anticipation',\n",
    "    3: 'Digust',\n",
    "    4: 'Fear',\n",
    "    5: 'Joy',\n",
    "    6: 'Sadness',\n",
    "    7: 'Surprise',\n",
    "    8: 'Trust',\n",
    "}"
   ]
  },
  {
   "cell_type": "code",
   "execution_count": 14,
   "metadata": {},
   "outputs": [],
   "source": [
    "X_train_basic = train_set_prep_basic['sentence']\n",
    "Y_train_basic = train_set_prep_basic['emotion']\n",
    "\n",
    "X_dev_basic = dev_set_prep_basic['sentence']\n",
    "Y_dev_basic = dev_set_prep_basic['emotion']"
   ]
  },
  {
   "cell_type": "code",
   "execution_count": 15,
   "metadata": {},
   "outputs": [],
   "source": [
    "X_train = train_set_prep['sentence']\n",
    "Y_train = train_set_prep['emotion']\n",
    "\n",
    "X_dev = dev_set_prep['sentence']\n",
    "Y_dev = dev_set_prep['emotion']"
   ]
  },
  {
   "cell_type": "code",
   "execution_count": 16,
   "metadata": {},
   "outputs": [
    {
     "data": {
      "image/png": "[encoded data removed]",
      "text/plain": [
       "<Figure size 288x288 with 1 Axes>"
      ]
     },
     "metadata": {
      "needs_background": "light"
     },
     "output_type": "display_data"
    }
   ],
   "source": [
    "fig, ax = plt.subplots(figsize=(4,4))\n",
    "y_counts = np.bincount(Y_train)\n",
    "ax.bar(range(0,9), y_counts)\n",
    "ax.set(xticks=range(1,9), xlim=[0.5, 8.5])\n",
    "\n",
    "plt.title(\"Distribution of Training Data Labels\")\n",
    "plt.show()"
   ]
  },
  {
   "cell_type": "code",
   "execution_count": 17,
   "metadata": {},
   "outputs": [
    {
     "data": {
      "image/png": "[encoded data removed]",
      "text/plain": [
       "<Figure size 504x288 with 1 Axes>"
      ]
     },
     "metadata": {
      "needs_background": "light"
     },
     "output_type": "display_data"
    }
   ],
   "source": [
    "fig, ax = plt.subplots(figsize=(7,4))\n",
    "y_counts = np.bincount(Y_dev)\n",
    "ax.bar(range(0,9), y_counts)\n",
    "ax.set(xticks=range(1,9), xlim=[0.5, 8.5])\n",
    "\n",
    "plt.title(\"Distribution of Test Data Labels\")\n",
    "plt.show()"
   ]
  },
  {
   "cell_type": "markdown",
   "metadata": {},
   "source": [
    "# Model Selection"
   ]
  },
  {
   "cell_type": "code",
   "execution_count": 18,
   "metadata": {},
   "outputs": [],
   "source": [
    "f1labels = [\"F1 \" + labels[i+1] for i in range(len(labels))]\n",
    "rclabels = [\"Recall \" + labels[i+1] for i in range(len(labels))]\n",
    "pclabels = [\"Precision \" + labels[i+1] for i in range(len(labels))]\n",
    "numlabels = [i+1 for i in range(len(labels))]\n"
   ]
  },
  {
   "cell_type": "code",
   "execution_count": 19,
   "metadata": {},
   "outputs": [],
   "source": [
    "def get_scores(preds, label, cv_score, truth=Y_dev):\n",
    "    return pd.DataFrame([[label,\n",
    "               accuracy_score(truth, preds),\n",
    "               recall_score(truth, preds, average='macro'),\n",
    "               precision_score(truth, preds, average='macro'),\n",
    "               f1_score(truth, preds, average='macro', ),\n",
    "               cv_score,\n",
    "               *(f1_score(truth, preds, average=None, labels=numlabels)),\n",
    "               *(recall_score(truth, preds, average=None, labels=numlabels)),\n",
    "               *(precision_score(truth, preds, average=None, labels=numlabels)),\n",
    "            ]],\n",
    "             columns=[\"Model\", \"Accuracy\", \"Recall\", \"Precision\", \"F1\", \"Train Accuracy\", *f1labels, *rclabels, *pclabels ],\n",
    "             index=[label]\n",
    "        )\n",
    "    \n",
    "def print_scores(preds, gs_, Y=Y_dev):\n",
    "    \n",
    "    print(\"Best parameters: \")\n",
    "    print(gs_.best_params_)\n",
    "    print(\"------------------------\")\n",
    "\n",
    "    print(\"Accuracy:         \", round(accuracy_score(Y_dev, preds),4))\n",
    "    print(\"Macro F1:         \", round(f1_score(Y_dev, preds, average='macro'),4))\n",
    "    print(\"Macro Recall:     \", round(recall_score(Y_dev, preds, average='macro'),4))\n",
    "    print(\"Macro Precision:  \", round(precision_score(Y_dev, preds, average='macro'),4))\n",
    "    print(\"Best Train Score: \", round(gs_.best_score_,4))\n",
    "\n",
    "    return\n",
    "\n",
    "def plot_cm(preds, title, Y=Y_dev):\n",
    "    cm_ = confusion_matrix(Y, preds)\n",
    "    df_cm = pd.DataFrame(cm_, index=numlabels, columns=numlabels)\n",
    "    \n",
    "    fig, ax = plt.subplots(figsize=(7,5))\n",
    "    \n",
    "    ax = sns.heatmap(df_cm, annot=True,cmap=\"Blues\", fmt=\"d\")\n",
    "    ax.set_ylabel(\"True Label\")\n",
    "    ax.set_xlabel(\"Predicted Label\")\n",
    "    \n",
    "    plt.title(\"Confusion Matrix: \"+title, fontsize=12)\n",
    "    \n",
    "    \n",
    "    plt.show()\n",
    "    #fn = './imgs03/ConfusionMatrix_' + title.replace(' ','-') + '.png'\n",
    "    #fig.savefig(fn, bbox_inches='tight', transparent=True)\n",
    "    \n",
    "    return\n",
    "\n"
   ]
  },
  {
   "cell_type": "code",
   "execution_count": 20,
   "metadata": {},
   "outputs": [],
   "source": [
    "score_func = 'accuracy'"
   ]
  },
  {
   "cell_type": "markdown",
   "metadata": {
    "tags": []
   },
   "source": [
    "## Baseline KNN"
   ]
  },
  {
   "cell_type": "code",
   "execution_count": 21,
   "metadata": {},
   "outputs": [],
   "source": [
    "pipe_knn = Pipeline([\n",
    "    ('count', CountVectorizer()),     # CountVectorizer \n",
    "    ('classifier', KNeighborsClassifier()),  # \n",
    "])\n",
    "\n",
    "## Uses values of default params as grid search values\n",
    "grid_knn = {\n",
    "    \"count__ngram_range\": [(1,1)],\n",
    "    \"count__stop_words\": [None],\n",
    "}\n",
    "\n",
    "gs_knn = GridSearchCV(pipe_knn, grid_knn, n_jobs=-1, cv=10, scoring=score_func)\n",
    "gs_knn.fit(X_train_basic, Y_train_basic)\n",
    "gs_knn_pred = gs_knn.predict(X_dev_basic)\n"
   ]
  },
  {
   "cell_type": "code",
   "execution_count": 22,
   "metadata": {},
   "outputs": [
    {
     "name": "stdout",
     "output_type": "stream",
     "text": [
      "Best parameters: \n",
      "{'count__ngram_range': (1, 1), 'count__stop_words': None}\n",
      "------------------------\n",
      "Accuracy:          0.265\n",
      "Macro F1:          0.2125\n",
      "Macro Recall:      0.2181\n",
      "Macro Precision:   0.2295\n",
      "Best Train Score:  0.2555\n"
     ]
    }
   ],
   "source": [
    "print_scores(gs_knn_pred, gs_knn)\n",
    "scores = get_scores(gs_knn_pred, \"KNN Baseline\", gs_knn.best_score_)\n",
    "#plot_cm(gs_knn_pred, \"Baseline\")"
   ]
  },
  {
   "cell_type": "markdown",
   "metadata": {
    "tags": []
   },
   "source": [
    "## KNN Optimized"
   ]
  },
  {
   "cell_type": "raw",
   "metadata": {},
   "source": [
    "pipe_knno = Pipeline([\n",
    "    ('count', CountVectorizer()),     # CountVectorizer \n",
    "    ('knn', KNeighborsClassifier()),  # \n",
    "])\n",
    "\n",
    "## Uses values of default params as grid search values\n",
    "grid_knno = {\n",
    "    \"count__ngram_range\": [(1,1)],\n",
    "    \"count__stop_words\": [None],\n",
    "    \"knn__n_neighbors\": [3,5,11,19],\n",
    "    \"knn__metric\": ['cosine', 'euclidean', 'manhattan'],\n",
    "    'knn__weights':['uniform','distance']\n",
    "    \n",
    "}\n",
    "\n",
    "gs_knno = GridSearchCV(pipe_knno, grid_knno, n_jobs=-1, cv=10, scoring=score_func)\n",
    "gs_knno.fit(X_train, Y_train)\n",
    "gs_knno_pred = gs_knno.predict(X_dev)\n"
   ]
  },
  {
   "cell_type": "code",
   "execution_count": 23,
   "metadata": {},
   "outputs": [],
   "source": [
    "pipe_knno = Pipeline([\n",
    "    ('count', CountVectorizer()),     # CountVectorizer \n",
    "    ('knn', KNeighborsClassifier()),  # \n",
    "])\n",
    "\n",
    "## Uses values of default params as grid search values\n",
    "grid_knno = {\n",
    "    \"count__ngram_range\": [(1,1)],\n",
    "    \"count__stop_words\": [None],\n",
    "    \"knn__n_neighbors\": [19],\n",
    "    \"knn__metric\": ['cosine'],\n",
    "    'knn__weights':['distance']\n",
    "    \n",
    "}\n",
    "\n",
    "gs_knno = GridSearchCV(pipe_knno, grid_knno, n_jobs=-1, cv=10, scoring=score_func)\n",
    "gs_knno.fit(X_train, Y_train)\n",
    "gs_knno_pred = gs_knno.predict(X_dev)"
   ]
  },
  {
   "cell_type": "code",
   "execution_count": 25,
   "metadata": {},
   "outputs": [
    {
     "name": "stdout",
     "output_type": "stream",
     "text": [
      "Best parameters: \n",
      "{'count__ngram_range': (1, 1), 'count__stop_words': None, 'knn__metric': 'cosine', 'knn__n_neighbors': 19, 'knn__weights': 'distance'}\n",
      "------------------------\n",
      "Accuracy:          0.316\n",
      "Macro F1:          0.2656\n",
      "Macro Recall:      0.268\n",
      "Macro Precision:   0.2957\n",
      "Best Train Score:  0.3173\n"
     ]
    },
    {
     "data": {
      "image/png": "[encoded data removed]",
      "text/plain": [
       "<Figure size 504x360 with 2 Axes>"
      ]
     },
     "metadata": {
      "needs_background": "light"
     },
     "output_type": "display_data"
    }
   ],
   "source": [
    "print_scores(gs_knno_pred, gs_knno)\n",
    "scores = pd.concat([scores,get_scores(gs_knno_pred, \"KNN\", gs_knno.best_score_)])\n",
    "plot_cm(gs_knno_pred, \"KNN\")"
   ]
  },
  {
   "cell_type": "markdown",
   "metadata": {
    "tags": []
   },
   "source": [
    "## MNB"
   ]
  },
  {
   "cell_type": "raw",
   "metadata": {},
   "source": [
    "pipe_mnb = Pipeline([\n",
    "    ('count', CountVectorizer()),     # CountVectorizer \n",
    "    ('classifier', MultinomialNB()),  # \n",
    "])\n",
    "\n",
    "## Uses values of default params as grid search values\n",
    "grid_mnb = {\n",
    "    \"count__ngram_range\": [(1,1)],\n",
    "    \"count__stop_words\": [None],\n",
    "    \"classifier__alpha\": [1, 0.1, 0.01, 0.001, 0.0001]\n",
    "}\n",
    "\n",
    "gs_mnb = GridSearchCV(pipe_mnb, grid_mnb, n_jobs=-1, cv=10, scoring=score_func)\n",
    "\n",
    "gs_mnb.fit(X_train, Y_train)\n",
    "gs_mnb_pred = gs_mnb.predict(X_dev)\n"
   ]
  },
  {
   "cell_type": "code",
   "execution_count": 26,
   "metadata": {},
   "outputs": [],
   "source": [
    "pipe_mnb = Pipeline([\n",
    "    ('count', CountVectorizer()),     # CountVectorizer \n",
    "    ('classifier', MultinomialNB()),  # \n",
    "])\n",
    "\n",
    "## Uses values of default params as grid search values\n",
    "grid_mnb = {\n",
    "    \"count__ngram_range\": [(1,1)],\n",
    "    \"count__stop_words\": [None],\n",
    "    \"classifier__alpha\": [0.1]\n",
    "}\n",
    "\n",
    "gs_mnb = GridSearchCV(pipe_mnb, grid_mnb, n_jobs=-1, cv=10, scoring=score_func)\n",
    "\n",
    "gs_mnb.fit(X_train, Y_train)\n",
    "gs_mnb_pred = gs_mnb.predict(X_dev)\n"
   ]
  },
  {
   "cell_type": "code",
   "execution_count": 27,
   "metadata": {},
   "outputs": [
    {
     "name": "stdout",
     "output_type": "stream",
     "text": [
      "Best parameters: \n",
      "{'classifier__alpha': 0.1, 'count__ngram_range': (1, 1), 'count__stop_words': None}\n",
      "------------------------\n",
      "Accuracy:          0.362\n",
      "Macro F1:          0.3428\n",
      "Macro Recall:      0.3414\n",
      "Macro Precision:   0.3505\n",
      "Best Train Score:  0.364\n"
     ]
    }
   ],
   "source": [
    "print_scores(gs_mnb_pred, gs_mnb)\n",
    "scores = pd.concat([scores,get_scores(gs_mnb_pred, \"MultinomialNB\", gs_mnb.best_score_)])\n"
   ]
  },
  {
   "cell_type": "code",
   "execution_count": 28,
   "metadata": {},
   "outputs": [
    {
     "data": {
      "image/png": "[encoded data removed]",
      "text/plain": [
       "<Figure size 504x360 with 2 Axes>"
      ]
     },
     "metadata": {
      "needs_background": "light"
     },
     "output_type": "display_data"
    }
   ],
   "source": [
    "plot_cm(gs_knno_pred, \"MultinomialNB\")"
   ]
  },
  {
   "cell_type": "markdown",
   "metadata": {
    "tags": []
   },
   "source": [
    "## SGD"
   ]
  },
  {
   "cell_type": "raw",
   "metadata": {},
   "source": [
    "pipe_sgd = Pipeline([\n",
    "    ('count', CountVectorizer()),\n",
    "    ('sgd', SGDClassifier(random_state=RANDOM_STATE, max_iter=8000)),\n",
    "])\n",
    "\n",
    "grid_sgd = {\n",
    "    \"count__ngram_range\": [(1,1)],\n",
    "    \"count__stop_words\": [None],\n",
    "    \"sgd__loss\": ['log_loss', 'squared_hinge'], \n",
    "    \"sgd__penalty\":['l2','l1'],\n",
    "    \"sgd__alpha\":[1, 0.1, 0.001]\n",
    "}\n",
    "\n",
    "gs_sgd = GridSearchCV(pipe_sgd, grid_sgd, n_jobs=-1, cv=10, scoring=score_func)\n",
    "gs_sgd.fit(X_train, Y_train)\n",
    "\n",
    "gs_sgd_pred = gs_sgd.predict(X_dev)\n",
    "\n"
   ]
  },
  {
   "cell_type": "code",
   "execution_count": 29,
   "metadata": {},
   "outputs": [],
   "source": [
    "pipe_sgd = Pipeline([\n",
    "    ('count', CountVectorizer()),\n",
    "    ('sgd', SGDClassifier(random_state=RANDOM_STATE, max_iter=8000)),\n",
    "])\n",
    "\n",
    "grid_sgd = {\n",
    "    \"count__ngram_range\": [(1,1)],\n",
    "    \"count__stop_words\": [None],\n",
    "    \"sgd__loss\": ['log_loss'], \n",
    "    \"sgd__penalty\":['l2'],\n",
    "    \"sgd__alpha\":[0.001]\n",
    "}\n",
    "\n",
    "gs_sgd = GridSearchCV(pipe_sgd, grid_sgd, n_jobs=-1, cv=10, scoring=score_func)\n",
    "gs_sgd.fit(X_train, Y_train)\n",
    "\n",
    "gs_sgd_pred = gs_sgd.predict(X_dev)\n",
    "\n"
   ]
  },
  {
   "cell_type": "code",
   "execution_count": 30,
   "metadata": {},
   "outputs": [
    {
     "name": "stdout",
     "output_type": "stream",
     "text": [
      "Best parameters: \n",
      "{'count__ngram_range': (1, 1), 'count__stop_words': None, 'sgd__alpha': 0.001, 'sgd__loss': 'log_loss', 'sgd__penalty': 'l2'}\n",
      "------------------------\n",
      "Accuracy:          0.372\n",
      "Macro F1:          0.3047\n",
      "Macro Recall:      0.3083\n",
      "Macro Precision:   0.3736\n",
      "Best Train Score:  0.3564\n"
     ]
    }
   ],
   "source": [
    "print_scores(gs_sgd_pred, gs_sgd)\n",
    "get_scores(gs_sgd_pred, \"SGD\", gs_sgd.best_score_)\n",
    "\n",
    "scores = pd.concat([scores,get_scores(gs_sgd_pred, \"SGDClassifier\", gs_sgd.best_score_)])"
   ]
  },
  {
   "cell_type": "code",
   "execution_count": 31,
   "metadata": {},
   "outputs": [
    {
     "data": {
      "image/png": "[encoded data removed]",
      "text/plain": [
       "<Figure size 504x360 with 2 Axes>"
      ]
     },
     "metadata": {
      "needs_background": "light"
     },
     "output_type": "display_data"
    }
   ],
   "source": [
    "plot_cm(gs_sgd_pred, \"SGDClassifier\")"
   ]
  },
  {
   "cell_type": "markdown",
   "metadata": {
    "tags": []
   },
   "source": [
    "## LR"
   ]
  },
  {
   "cell_type": "raw",
   "metadata": {},
   "source": [
    "pipe_lr = Pipeline([\n",
    "    ('count', CountVectorizer()),\n",
    "    ('lr', LogisticRegression(random_state=RANDOM_STATE, max_iter=8000)),\n",
    "])\n",
    "\n",
    "grid_lr = {\n",
    "    \"count__ngram_range\": [(1,1)],\n",
    "    \"count__stop_words\": [None],\n",
    "    \"lr__solver\": ['lbfgs', 'liblinear'],\n",
    "    \"lr__multi_class\": ['auto'],\n",
    "#    \"lr__penalty\": ['none', 'l2'],\n",
    "}\n",
    "\n",
    "gs_lr = GridSearchCV(pipe_lr, grid_lr, n_jobs=-1, cv=10, scoring=score_func)\n",
    "\n",
    "gs_lr.fit(X_train, Y_train)\n",
    "gs_lr_pred = gs_lr.predict(X_dev)\n",
    "\n"
   ]
  },
  {
   "cell_type": "code",
   "execution_count": 32,
   "metadata": {},
   "outputs": [],
   "source": [
    "pipe_lr = Pipeline([\n",
    "    ('count', CountVectorizer()),\n",
    "    ('lr', LogisticRegression(random_state=RANDOM_STATE, max_iter=8000)),\n",
    "])\n",
    "\n",
    "grid_lr = {\n",
    "    \"count__ngram_range\": [(1,1)],\n",
    "    \"count__stop_words\": [None],\n",
    "    \"lr__solver\": ['liblinear'],\n",
    "    \"lr__multi_class\": ['auto'],\n",
    "}\n",
    "\n",
    "gs_lr = GridSearchCV(pipe_lr, grid_lr, n_jobs=-1, cv=10, scoring=score_func)\n",
    "\n",
    "gs_lr.fit(X_train, Y_train)\n",
    "gs_lr_pred = gs_lr.predict(X_dev)\n"
   ]
  },
  {
   "cell_type": "code",
   "execution_count": 33,
   "metadata": {},
   "outputs": [
    {
     "name": "stdout",
     "output_type": "stream",
     "text": [
      "Best parameters: \n",
      "{'count__ngram_range': (1, 1), 'count__stop_words': None, 'lr__multi_class': 'auto', 'lr__solver': 'liblinear'}\n",
      "------------------------\n",
      "Accuracy:          0.37\n",
      "Macro F1:          0.3431\n",
      "Macro Recall:      0.3403\n",
      "Macro Precision:   0.3572\n",
      "Best Train Score:  0.3799\n"
     ]
    }
   ],
   "source": [
    "print_scores(gs_lr_pred, gs_lr)\n",
    "get_scores(gs_lr_pred, \"LogisticRegression\", gs_lr.best_score_)\n",
    "\n",
    "scores = pd.concat([scores,get_scores(gs_lr_pred, \"LogisticRegression\", gs_lr.best_score_)])\n"
   ]
  },
  {
   "cell_type": "code",
   "execution_count": 34,
   "metadata": {},
   "outputs": [
    {
     "data": {
      "image/png": "[encoded data removed]",
      "text/plain": [
       "<Figure size 504x360 with 2 Axes>"
      ]
     },
     "metadata": {
      "needs_background": "light"
     },
     "output_type": "display_data"
    }
   ],
   "source": [
    "plot_cm(gs_lr_pred, \"LogisticRegression\")"
   ]
  },
  {
   "cell_type": "markdown",
   "metadata": {
    "tags": []
   },
   "source": [
    "## DT"
   ]
  },
  {
   "cell_type": "raw",
   "metadata": {},
   "source": [
    "pipe_dt = Pipeline([\n",
    "    ('count', CountVectorizer()),\n",
    "    ('dt', DecisionTreeClassifier(random_state=RANDOM_STATE)),\n",
    "])\n",
    "\n",
    "grid_dt = {\n",
    "    \"count__ngram_range\": [(1,1), (2,4)],\n",
    "    \"count__stop_words\": [\"english\", None],\n",
    "    \"dt__criterion\": ['gini', 'entropy'],\n",
    "    \"dt__splitter\": ['best','random'],\n",
    "    \"dt__max_features\":['auto','sqrt','log2']\n",
    "    \n",
    "}\n",
    "\n",
    "gs_dt = GridSearchCV(pipe_dt, grid_dt, n_jobs=-1, cv=10, scoring=score_func)\n",
    "\n",
    "gs_dt.fit(X_train, Y_train)\n",
    "gs_dt_pred = gs_dt.predict(X_dev)\n"
   ]
  },
  {
   "cell_type": "code",
   "execution_count": 38,
   "metadata": {},
   "outputs": [],
   "source": [
    "pipe_dt = Pipeline([\n",
    "    ('count', CountVectorizer()),\n",
    "    ('dt', DecisionTreeClassifier(random_state=RANDOM_STATE)),\n",
    "])\n",
    "\n",
    "grid_dt = {\n",
    "    \"count__ngram_range\": [(1,1)],\n",
    "    \"count__stop_words\": [\"english\"],\n",
    "    \"dt__criterion\": ['gini'],\n",
    "    \"dt__splitter\": ['best'],\n",
    "    \"dt__max_features\":['sqrt']\n",
    "    \n",
    "}\n",
    "\n",
    "gs_dt = GridSearchCV(pipe_dt, grid_dt, n_jobs=-1, cv=10, scoring=score_func)\n",
    "\n",
    "gs_dt.fit(X_train, Y_train)\n",
    "gs_dt_pred = gs_dt.predict(X_dev)\n"
   ]
  },
  {
   "cell_type": "code",
   "execution_count": 39,
   "metadata": {},
   "outputs": [
    {
     "name": "stdout",
     "output_type": "stream",
     "text": [
      "Best parameters: \n",
      "{'count__ngram_range': (1, 1), 'count__stop_words': 'english', 'dt__criterion': 'gini', 'dt__max_features': 'sqrt', 'dt__splitter': 'best'}\n",
      "------------------------\n",
      "Accuracy:          0.303\n",
      "Macro F1:          0.2552\n",
      "Macro Recall:      0.258\n",
      "Macro Precision:   0.2669\n",
      "Best Train Score:  0.2844\n"
     ]
    }
   ],
   "source": [
    "print_scores(gs_dt_pred, gs_dt)\n",
    "get_scores(gs_dt_pred, \"DecisionTreeClassifier\", gs_dt.best_score_)\n",
    "\n",
    "scores = pd.concat([scores,get_scores(gs_dt_pred, \"DecisionTreeClassifier\", gs_dt.best_score_)])\n"
   ]
  },
  {
   "cell_type": "code",
   "execution_count": 40,
   "metadata": {},
   "outputs": [
    {
     "data": {
      "image/png": "[encoded data removed]",
      "text/plain": [
       "<Figure size 504x360 with 2 Axes>"
      ]
     },
     "metadata": {
      "needs_background": "light"
     },
     "output_type": "display_data"
    }
   ],
   "source": [
    "plot_cm(gs_dt_pred, \"DecisionTreeClassifier\")"
   ]
  },
  {
   "cell_type": "markdown",
   "metadata": {
    "tags": []
   },
   "source": [
    "## GB"
   ]
  },
  {
   "cell_type": "raw",
   "metadata": {},
   "source": [
    "pipe_gb = Pipeline([\n",
    "    ('count', CountVectorizer()),\n",
    "    ('gb', GradientBoostingClassifier(random_state=RANDOM_STATE)),\n",
    "])\n",
    "\n",
    "grid_gb = {\n",
    "    \"count__ngram_range\": [(1,1)],\n",
    "    \"count__stop_words\": [None],\n",
    "    \"gb__loss\": ['log_loss'],\n",
    "    \"gb__n_estimators\": [100,200],\n",
    "    \"gb__learning_rate\": [.25, 0.05],    \n",
    "}\n",
    "\n",
    "gs_gb = GridSearchCV(pipe_gb, grid_gb, n_jobs=-1, cv=10, scoring=score_func)\n",
    "\n",
    "gs_gb.fit(X_train, Y_train)\n",
    "gs_gb_pred = gs_gb.predict(X_dev)\n"
   ]
  },
  {
   "cell_type": "code",
   "execution_count": 41,
   "metadata": {},
   "outputs": [],
   "source": [
    "pipe_gb = Pipeline([\n",
    "    ('count', CountVectorizer()),\n",
    "    ('gb', GradientBoostingClassifier(random_state=RANDOM_STATE)),\n",
    "])\n",
    "\n",
    "grid_gb = {\n",
    "    \"count__ngram_range\": [(1,1)],\n",
    "    \"count__stop_words\": [None],\n",
    "    \"gb__loss\": ['log_loss'],\n",
    "    \"gb__n_estimators\": [200],\n",
    "    \"gb__learning_rate\": [.25],    \n",
    "}\n",
    "\n",
    "gs_gb = GridSearchCV(pipe_gb, grid_gb, n_jobs=-1, cv=10, scoring=score_func)\n",
    "\n",
    "gs_gb.fit(X_train, Y_train)\n",
    "gs_gb_pred = gs_gb.predict(X_dev)\n"
   ]
  },
  {
   "cell_type": "code",
   "execution_count": 42,
   "metadata": {},
   "outputs": [
    {
     "name": "stdout",
     "output_type": "stream",
     "text": [
      "Best parameters: \n",
      "{'count__ngram_range': (1, 1), 'count__stop_words': None, 'gb__learning_rate': 0.25, 'gb__loss': 'log_loss', 'gb__n_estimators': 200}\n",
      "------------------------\n",
      "Accuracy:          0.34\n",
      "Macro F1:          0.2986\n",
      "Macro Recall:      0.2919\n",
      "Macro Precision:   0.3394\n",
      "Best Train Score:  0.3498\n"
     ]
    }
   ],
   "source": [
    "print_scores(gs_gb_pred, gs_gb)\n",
    "get_scores(gs_gb_pred, \"GradientBoostingClassifier\", gs_gb.best_score_)\n",
    "\n",
    "scores = pd.concat([scores,get_scores(gs_gb_pred, \"GradientBoostingClassifier\", gs_dt.best_score_)])\n"
   ]
  },
  {
   "cell_type": "code",
   "execution_count": 43,
   "metadata": {},
   "outputs": [
    {
     "data": {
      "image/png": "[encoded data removed]",
      "text/plain": [
       "<Figure size 504x360 with 2 Axes>"
      ]
     },
     "metadata": {
      "needs_background": "light"
     },
     "output_type": "display_data"
    }
   ],
   "source": [
    "plot_cm(gs_gb_pred, \"GradientBoostingClassifier\")"
   ]
  },
  {
   "cell_type": "markdown",
   "metadata": {
    "tags": []
   },
   "source": [
    "## SVM"
   ]
  },
  {
   "cell_type": "raw",
   "metadata": {},
   "source": [
    "pipe_sv = Pipeline([\n",
    "    ('count', CountVectorizer()),\n",
    "    ('svc', SVC(random_state=RANDOM_STATE)),\n",
    "])\n",
    "\n",
    "grid_sv = {\n",
    "    \"count__ngram_range\": [(1,1)],\n",
    "    \"count__stop_words\": [None],\n",
    "    \"svc__kernel\": ['linear', 'rbf'],\n",
    "    \"svc__gamma\":['scale','auto'],\n",
    "    \"svc__decision_function_shape\": ['ovo','ovr'],\n",
    "}\n",
    "\n",
    "gs_sv = GridSearchCV(pipe_sv, grid_sv, n_jobs=-1, cv=10, scoring=score_func)\n",
    "\n",
    "gs_sv.fit(X_train, Y_train)\n",
    "gs_sv_pred = gs_sv.predict(X_dev)\n"
   ]
  },
  {
   "cell_type": "code",
   "execution_count": 44,
   "metadata": {},
   "outputs": [],
   "source": [
    "pipe_sv = Pipeline([\n",
    "    ('count', CountVectorizer()),\n",
    "    ('svc', SVC(random_state=RANDOM_STATE)),\n",
    "])\n",
    "\n",
    "grid_sv = {\n",
    "    \"count__ngram_range\": [(1,1)],\n",
    "    \"count__stop_words\": [None],\n",
    "    \"svc__kernel\": ['linear'],\n",
    "    \"svc__gamma\":['scale'],\n",
    "    \"svc__decision_function_shape\": ['ovo'],\n",
    "}\n",
    "\n",
    "gs_sv = GridSearchCV(pipe_sv, grid_sv, n_jobs=-1, cv=10, scoring=score_func)\n",
    "\n",
    "gs_sv.fit(X_train, Y_train)\n",
    "gs_sv_pred = gs_sv.predict(X_dev)\n"
   ]
  },
  {
   "cell_type": "code",
   "execution_count": 45,
   "metadata": {},
   "outputs": [
    {
     "name": "stdout",
     "output_type": "stream",
     "text": [
      "Best parameters: \n",
      "{'count__ngram_range': (1, 1), 'count__stop_words': None, 'svc__decision_function_shape': 'ovo', 'svc__gamma': 'scale', 'svc__kernel': 'linear'}\n",
      "------------------------\n",
      "Accuracy:          0.372\n",
      "Macro F1:          0.3421\n",
      "Macro Recall:      0.338\n",
      "Macro Precision:   0.3557\n",
      "Best Train Score:  0.3736\n"
     ]
    }
   ],
   "source": [
    "print_scores(gs_sv_pred, gs_sv)\n",
    "get_scores(gs_sv_pred, \"SVC\", gs_sv.best_score_)\n",
    "\n",
    "scores = pd.concat([scores,get_scores(gs_sv_pred, \"SVC\", gs_sv.best_score_)])"
   ]
  },
  {
   "cell_type": "code",
   "execution_count": 46,
   "metadata": {},
   "outputs": [
    {
     "data": {
      "image/png": "[encoded data removed]",
      "text/plain": [
       "<Figure size 504x360 with 2 Axes>"
      ]
     },
     "metadata": {
      "needs_background": "light"
     },
     "output_type": "display_data"
    }
   ],
   "source": [
    "plot_cm(gs_sv_pred, \"SVC\")"
   ]
  },
  {
   "cell_type": "markdown",
   "metadata": {
    "tags": []
   },
   "source": [
    "## VotingClassifier"
   ]
  },
  {
   "cell_type": "markdown",
   "metadata": {},
   "source": [
    "### Hard"
   ]
  },
  {
   "cell_type": "markdown",
   "metadata": {},
   "source": [
    "#### Using optimized base estimators"
   ]
  },
  {
   "cell_type": "markdown",
   "metadata": {},
   "source": [
    "LR = {'count__ngram_range': (1, 1), 'count__stop_words': None, 'lr__multi_class': 'multinomial', 'lr__solver': 'lbfgs'}\n",
    "\n",
    "SG = {'count__ngram_range': (1, 1), 'count__stop_words': None, 'sgd__alpha': 0.001, 'sgd__loss': 'log', 'sgd__penalty': 'l2'}\n",
    "\n",
    "NB = {'classifier__alpha': 0.1, 'count__ngram_range': (1, 1), 'count__stop_words': None}\n",
    "\n",
    "GB = {'count__ngram_range': (1, 1), 'count__stop_words': None, 'gb__learning_rate': 0.25, 'gb__loss': 'log_loss', 'gb__n_estimators': 200}\n",
    "\n",
    "SV = {'count__ngram_range': (1, 1), 'count__stop_words': None, 'svc__decision_function_shape': 'ovo', 'svc__gamma': 'scale', 'svc__kernel': 'linear'}"
   ]
  },
  {
   "cell_type": "code",
   "execution_count": 23,
   "metadata": {},
   "outputs": [
    {
     "name": "stderr",
     "output_type": "stream",
     "text": [
      "C:\\Users\\Joana Tavares\\anaconda3\\envs\\tm\\lib\\site-packages\\sklearn\\linear_model\\_stochastic_gradient.py:173: FutureWarning: The loss 'log' was deprecated in v1.1 and will be removed in version 1.3. Use `loss='log_loss'` which is equivalent.\n",
      "  warnings.warn(\n"
     ]
    }
   ],
   "source": [
    "vc = VotingClassifier(\n",
    "    estimators=[('lr', LogisticRegression(max_iter=1000, random_state=RANDOM_STATE, solver='lbfgs', multi_class='multinomial')), \n",
    "                ('sg', SGDClassifier(random_state=RANDOM_STATE, loss='log', penalty='l2', alpha=0.001)), \n",
    "                ('nb', MultinomialNB(alpha=.1)),\n",
    "                ('gb', GradientBoostingClassifier(random_state=RANDOM_STATE, loss='log_loss', n_estimators=200, learning_rate=.25)),\n",
    "                ('sv', SVC(random_state=RANDOM_STATE, kernel='linear', decision_function_shape='ovo', gamma='scale'))\n",
    "               ],\n",
    "    voting='hard'\n",
    ")\n",
    "\n",
    "vc_pipe = Pipeline([\n",
    "        ('count', CountVectorizer()),    \n",
    "        ('vc', vc)\n",
    "    ])\n",
    "\n",
    "\n",
    "grid_vc = {\n",
    "    \"count__ngram_range\": [(1,1)],\n",
    "    \"count__stop_words\": [None]\n",
    "}\n",
    "\n",
    "gs_vc = GridSearchCV(vc_pipe, grid_vc, n_jobs=-1, cv=10, scoring=score_func)\n",
    "\n",
    "gs_vc.fit(X_train, Y_train)\n",
    "gs_vc_pred = gs_vc.predict(X_dev)\n",
    "\n"
   ]
  },
  {
   "cell_type": "code",
   "execution_count": 24,
   "metadata": {},
   "outputs": [
    {
     "name": "stdout",
     "output_type": "stream",
     "text": [
      "Best parameters: \n",
      "{'count__ngram_range': (1, 1), 'count__stop_words': None}\n",
      "------------------------\n",
      "Accuracy:          0.381\n",
      "Macro F1:          0.3457\n",
      "Macro Recall:      0.3394\n",
      "Macro Precision:   0.3808\n",
      "Best Train Score:  0.3826\n"
     ]
    }
   ],
   "source": [
    "print_scores(gs_vc_pred, gs_vc)\n",
    "get_scores(gs_vc_pred, \"VotingClassifier\", gs_vc.best_score_)\n",
    "\n",
    "scores = pd.concat([scores,get_scores(gs_vc_pred, \"VotingClassifier\", gs_vc.best_score_)])\n"
   ]
  },
  {
   "cell_type": "code",
   "execution_count": 25,
   "metadata": {},
   "outputs": [
    {
     "data": {
      "image/png": "[encoded data removed]",
      "text/plain": [
       "<Figure size 504x360 with 2 Axes>"
      ]
     },
     "metadata": {
      "needs_background": "light"
     },
     "output_type": "display_data"
    }
   ],
   "source": [
    "plot_cm(gs_vc_pred, \"VotingClassifier\")"
   ]
  },
  {
   "cell_type": "markdown",
   "metadata": {},
   "source": [
    "## RF"
   ]
  },
  {
   "cell_type": "raw",
   "metadata": {},
   "source": [
    "pipe_rf = Pipeline([\n",
    "    ('count', CountVectorizer()),\n",
    "    ('rf', RandomForestClassifier(random_state=RANDOM_STATE)),\n",
    "])\n",
    "\n",
    "grid_rf = {\n",
    "    \"count__ngram_range\": [(1,1)],\n",
    "    \"count__stop_words\": [None],\n",
    "    \"rf__n_estimators\": [200],\n",
    "    \"rf__criterion\": ['gini','entropy'],\n",
    "    \"rf__max_features\":['sqrt','log2']\n",
    "\n",
    "}\n",
    "\n",
    "gs_rf = GridSearchCV(pipe_rf, grid_rf, n_jobs=-1, cv=10, scoring=score_func)\n",
    "\n",
    "gs_rf.fit(X_train, Y_train)\n",
    "gs_rf_pred = gs_rf.predict(X_dev)\n"
   ]
  },
  {
   "cell_type": "code",
   "execution_count": null,
   "metadata": {},
   "outputs": [],
   "source": [
    "pipe_rf = Pipeline([\n",
    "    ('count', CountVectorizer()),\n",
    "    ('rf', RandomForestClassifier(random_state=RANDOM_STATE)),\n",
    "])\n",
    "\n",
    "grid_rf = {\n",
    "    \"count__ngram_range\": [(1,1)],\n",
    "    \"count__stop_words\": [None],\n",
    "    \"rf__n_estimators\": [200],\n",
    "    \"rf__criterion\": ['gini'],\n",
    "    \"rf__max_features\":['log2']\n",
    "\n",
    "}\n",
    "\n",
    "gs_rf = GridSearchCV(pipe_rf, grid_rf, n_jobs=-1, cv=10, scoring=score_func)\n",
    "\n",
    "gs_rf.fit(X_train, Y_train)\n",
    "gs_rf_pred = gs_rf.predict(X_dev)\n"
   ]
  },
  {
   "cell_type": "code",
   "execution_count": null,
   "metadata": {},
   "outputs": [],
   "source": [
    "print_scores(gs_rf_pred, gs_rf)\n",
    "get_scores(gs_rf_pred, \"RandomForestClassifier\", gs_rf.best_score_)\n",
    "\n",
    "scores = pd.concat([scores,get_scores(gs_rf_pred, \"RandomForestClassifier\", gs_rf.best_score_)])"
   ]
  }
 ],
 "metadata": {
  "colab": {
   "name": "Text Mining Project.ipynb",
   "provenance": [],
   "toc_visible": true
  },
  "kernelspec": {
   "display_name": "Python 3 (ipykernel)",
   "language": "python",
   "name": "python3"
  },
  "language_info": {
   "codemirror_mode": {
    "name": "ipython",
    "version": 3
   },
   "file_extension": ".py",
   "mimetype": "text/x-python",
   "name": "python",
   "nbconvert_exporter": "python",
   "pygments_lexer": "ipython3",
   "version": "3.10.4"
  }
 },
 "nbformat": 4,
 "nbformat_minor": 4
}
